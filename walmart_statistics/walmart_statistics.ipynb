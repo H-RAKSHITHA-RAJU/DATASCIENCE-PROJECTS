{
 "cells": [
  {
   "cell_type": "code",
   "execution_count": 3,
   "id": "3f4005e5-ba2c-4d8b-b8c5-3cd4ca64489a",
   "metadata": {},
   "outputs": [
    {
     "name": "stdout",
     "output_type": "stream",
     "text": [
      "   store type  dept        date  weekly_sales  is_holiday  temp_c  fuel_price  \\\n",
      "0      1    A     1  2010-02-05      24924.50       False    5.73       0.679   \n",
      "1      1    A     2  2010-02-05      50605.27       False    5.73       0.679   \n",
      "2      1    A     3  2010-02-05      13740.12       False    5.73       0.679   \n",
      "3      1    A     4  2010-02-05      39954.04       False    5.73       0.679   \n",
      "4      1    A     5  2010-02-05      32229.38       False    5.73       0.679   \n",
      "\n",
      "   unemp  \n",
      "0  8.106  \n",
      "1  8.106  \n",
      "2  8.106  \n",
      "3  8.106  \n",
      "4  8.106  \n",
      "<class 'pandas.core.frame.DataFrame'>\n",
      "RangeIndex: 5 entries, 0 to 4\n",
      "Data columns (total 9 columns):\n",
      " #   Column        Non-Null Count  Dtype  \n",
      "---  ------        --------------  -----  \n",
      " 0   store         5 non-null      int64  \n",
      " 1   type          5 non-null      object \n",
      " 2   dept          5 non-null      int64  \n",
      " 3   date          5 non-null      object \n",
      " 4   weekly_sales  5 non-null      float64\n",
      " 5   is_holiday    5 non-null      bool   \n",
      " 6   temp_c        5 non-null      float64\n",
      " 7   fuel_price    5 non-null      float64\n",
      " 8   unemp         5 non-null      float64\n",
      "dtypes: bool(1), float64(4), int64(2), object(2)\n",
      "memory usage: 457.0+ bytes\n",
      "None\n",
      "32290.662\n",
      "32229.38\n"
     ]
    }
   ],
   "source": [
    "import pandas as pd\n",
    "sales=pd.read_csv('walmart.csv')\n",
    "# Print the head of the sales DataFrame\n",
    "print(sales.head())\n",
    "\n",
    "# Print the info about the sales DataFrame\n",
    "print(sales.info())\n",
    "\n",
    "# Print the mean of weekly_sales\n",
    "print(sales['weekly_sales'].mean())\n",
    "\n",
    "# Print the median of weekly_sales\n",
    "print(sales['weekly_sales'].median())"
   ]
  },
  {
   "cell_type": "code",
   "execution_count": 5,
   "id": "761184e9-bbd9-4e7f-9326-f5fcd9291eeb",
   "metadata": {},
   "outputs": [
    {
     "name": "stdout",
     "output_type": "stream",
     "text": [
      "2010-02-05\n",
      "2010-02-05\n"
     ]
    }
   ],
   "source": [
    "# Print the maximum of the date column\n",
    "print(sales['date'].max())\n",
    "\n",
    "# Print the minimum of the date column\n",
    "print(sales['date'].min())"
   ]
  },
  {
   "cell_type": "code",
   "execution_count": 14,
   "id": "a1afd107-1eff-4657-ad44-bd8bf827a806",
   "metadata": {},
   "outputs": [
    {
     "name": "stdout",
     "output_type": "stream",
     "text": [
      "        temp_c  fuel_price  unemp\n",
      "iqr       0.00       0.000  0.000\n",
      "median    5.73       0.679  8.106\n"
     ]
    }
   ],
   "source": [
    "# Import NumPy and create custom IQR function\n",
    "import numpy as np\n",
    "def iqr(column):\n",
    "    return column.quantile(0.75) - column.quantile(0.25)\n",
    "\n",
    "# Update to print IQR and median of temperature_c, fuel_price_usd_per_l, & unemployment\n",
    "result = sales[[\"temp_c\", \"fuel_price\", \"unemp\"]].agg([iqr, 'median'])\n",
    "print(result)"
   ]
  },
  {
   "cell_type": "code",
   "execution_count": 18,
   "id": "8fe8c386-378b-44d6-a53e-8d73db1062e0",
   "metadata": {},
   "outputs": [
    {
     "name": "stdout",
     "output_type": "stream",
     "text": [
      "         date  weekly_sales  cum_weekly_sales  cum_max_sales\n",
      "0  2010-02-05      24924.50          24924.50       24924.50\n",
      "1  2010-02-05      50605.27          75529.77       50605.27\n",
      "2  2010-02-05      13740.12          89269.89       50605.27\n",
      "3  2010-02-05      39954.04         129223.93       50605.27\n",
      "4  2010-02-05      32229.38         161453.31       50605.27\n"
     ]
    }
   ],
   "source": [
    "# Sort the DataFrame by date\n",
    "sales_1_1 = sales.sort_values(by='date', ascending=True)\n",
    "\n",
    "# Add cumulative sum column\n",
    "sales_1_1['cum_weekly_sales'] = sales_1_1['weekly_sales'].cumsum()\n",
    "\n",
    "# Add cumulative max column\n",
    "sales_1_1['cum_max_sales'] = sales_1_1['weekly_sales'].cummax()\n",
    "\n",
    "# Display the resulting DataFrame\n",
    "print(sales_1_1[['date', 'weekly_sales', 'cum_weekly_sales', 'cum_max_sales']])"
   ]
  },
  {
   "cell_type": "code",
   "execution_count": null,
   "id": "b537742c-32f9-4eae-ae68-367714b6cd4a",
   "metadata": {},
   "outputs": [],
   "source": []
  }
 ],
 "metadata": {
  "kernelspec": {
   "display_name": "Python 3 (ipykernel)",
   "language": "python",
   "name": "python3"
  },
  "language_info": {
   "codemirror_mode": {
    "name": "ipython",
    "version": 3
   },
   "file_extension": ".py",
   "mimetype": "text/x-python",
   "name": "python",
   "nbconvert_exporter": "python",
   "pygments_lexer": "ipython3",
   "version": "3.12.4"
  }
 },
 "nbformat": 4,
 "nbformat_minor": 5
}
